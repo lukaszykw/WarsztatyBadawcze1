{
 "cells": [
  {
   "metadata": {},
   "cell_type": "markdown",
   "source": [
    "## Regresja\n",
    "\n",
    "losowy model"
   ],
   "id": "55874f548baec7a4"
  },
  {
   "metadata": {
    "ExecuteTime": {
     "end_time": "2025-05-22T12:45:31.627944Z",
     "start_time": "2025-05-22T12:45:31.465732Z"
    }
   },
   "cell_type": "code",
   "source": [
    "import numpy as np\n",
    "import pandas as pd\n",
    "from sklearn.model_selection import train_test_split, GridSearchCV, RandomizedSearchCV\n",
    "from sklearn.ensemble import RandomForestRegressor\n",
    "from sklearn.metrics import mean_squared_error, r2_score, mean_absolute_error, median_absolute_error, accuracy_score\n",
    "from sklearn.impute import SimpleImputer\n",
    "from sklearn.pipeline import Pipeline\n",
    "from scipy.stats import randint as sp_randint, uniform\n",
    "from sklearn.linear_model import LinearRegression, LogisticRegression\n",
    "from sklearn.preprocessing import StandardScaler"
   ],
   "id": "daeb0d139015ee32",
   "outputs": [],
   "execution_count": 1
  },
  {
   "metadata": {
    "ExecuteTime": {
     "end_time": "2025-05-22T12:47:21.023944Z",
     "start_time": "2025-05-22T12:47:21.003467Z"
    }
   },
   "cell_type": "code",
   "source": [
    "df_train = pd.read_csv('../data_with_features/train_with_features.csv')\n",
    "df_test = pd.read_csv('../data_with_features/test_with_features.csv')"
   ],
   "id": "2e108ca913c15bb5",
   "outputs": [],
   "execution_count": 2
  },
  {
   "metadata": {
    "ExecuteTime": {
     "end_time": "2025-05-22T12:47:27.049242Z",
     "start_time": "2025-05-22T12:47:25.739735Z"
    }
   },
   "cell_type": "code",
   "source": [
    "X = df_train.drop(['cellid', 'phase', 'order_within_phase', 'order'], axis=1).loc[df_train['phase'] == 'G2M']\n",
    "y = df_train['order_within_phase'].loc[df_train['phase'] == 'G2M']\n",
    "\n",
    "X_train, X_val, y_train, y_val = train_test_split(X, y, test_size=0.2, random_state=42)\n",
    "\n",
    "pipeline = Pipeline([\n",
    "    ('imputer', SimpleImputer(strategy='mean')),\n",
    "    ('regressor', RandomForestRegressor(random_state=42))\n",
    "])\n",
    "\n",
    "pipeline.fit(X_train, y_train)\n",
    "\n",
    "y_pred = pipeline.predict(X_val)\n",
    "\n",
    "mse = mean_squared_error(y_val, y_pred)\n",
    "r2 = r2_score(y_val, y_pred)\n",
    "\n",
    "print(f\"Mean Squared Error: {mse}\")\n",
    "print(f\"R-squared: {r2}\")"
   ],
   "id": "a286042209230582",
   "outputs": [
    {
     "name": "stdout",
     "output_type": "stream",
     "text": [
      "Mean Squared Error: 10.076098765432098\n",
      "R-squared: 0.06556674393622441\n"
     ]
    }
   ],
   "execution_count": 3
  },
  {
   "metadata": {},
   "cell_type": "markdown",
   "source": "### Dobór hiperparametrów",
   "id": "3400faff198c1ed1"
  },
  {
   "metadata": {},
   "cell_type": "code",
   "outputs": [],
   "execution_count": null,
   "source": [
    "pipeline = Pipeline([\n",
    "    ('imputer', SimpleImputer(strategy='mean')),\n",
    "    ('regressor', RandomForestRegressor(random_state=42))\n",
    "])\n",
    "\n",
    "\n",
    "param_dist = {\n",
    "    'regressor__n_estimators': sp_randint(50, 200),\n",
    "    'regressor__max_depth': [None] + list(sp_randint(3, 20).rvs(10)),\n",
    "    'regressor__min_samples_split': sp_randint(2, 20),\n",
    "    'regressor__min_samples_leaf': sp_randint(1, 20),\n",
    "    'regressor__max_features': ['sqrt', 'log2', None],\n",
    "    'regressor__bootstrap': [True, False],\n",
    "}\n",
    "\n",
    "\n",
    "random_search = RandomizedSearchCV(\n",
    "    estimator=pipeline,\n",
    "    param_distributions=param_dist,\n",
    "    n_iter=100,\n",
    "    cv=5,\n",
    "    verbose=2,\n",
    "    random_state=42,\n",
    "    n_jobs=-1,\n",
    "    scoring='neg_mean_squared_error'\n",
    ")\n",
    "\n",
    "\n",
    "random_search.fit(X_train, y_train)\n",
    "\n",
    "best_model = random_search.best_estimator_\n",
    "best_params = random_search.best_params_\n",
    "mae = mean_absolute_error(y_val, y_pred)\n",
    "medae = median_absolute_error(y_val, y_pred)\n",
    "\n",
    "y_pred = best_model.predict(X_val)\n",
    "mse = mean_squared_error(y_val, y_pred)\n",
    "r2 = r2_score(y_val, y_pred)\n",
    "\n",
    "print(f\"Best Hyperparameters: {best_params}\")\n",
    "print(f\"Mean Squared Error: {mse}\")\n",
    "print(f\"R-squared: {r2}\")\n",
    "print(f\"Mean Absolute Error: {mae}\")\n",
    "print(f\"Median Absolute Error: {medae}\")"
   ],
   "id": "9b2410f8a8326f11"
  },
  {
   "metadata": {},
   "cell_type": "code",
   "outputs": [],
   "execution_count": null,
   "source": "pd.DataFrame(random_search.cv_results_).to_excel('../parameter_search_results/randomforestregressor.xlsx', index=False)",
   "id": "4113367b6e38c490"
  },
  {
   "metadata": {},
   "cell_type": "code",
   "outputs": [],
   "execution_count": null,
   "source": [
    "rand_for_reg = RandomForestRegressor(bootstrap = True,\n",
    "                                max_depth = np.int64(7),\n",
    "                                max_features = 'log2',\n",
    "                                min_samples_leaf = 5,\n",
    "                                min_samples_split = 10,\n",
    "                                n_estimators = 148)"
   ],
   "id": "fd655b3ad6742c7f"
  },
  {
   "metadata": {},
   "cell_type": "code",
   "outputs": [],
   "execution_count": null,
   "source": [
    "rand_for_reg.fit(X_train, y_train)\n",
    "\n",
    "y_pred_RFR = rand_for_reg.predict(X_val)\n",
    "\n",
    "tolerance = 0.5  # Predictions within +/- 1 of the actual value are considered \"correct\"\n",
    "\n",
    "# custom accuracy\n",
    "correct_predictions = np.abs(y_val - y_pred_RFR) <= tolerance\n",
    "accuracy = correct_predictions.mean()\n",
    "print(accuracy)"
   ],
   "id": "6e761366447f450e"
  },
  {
   "metadata": {},
   "cell_type": "markdown",
   "source": "GradientBoostingRegressor",
   "id": "d2f2f27898380448"
  },
  {
   "metadata": {},
   "cell_type": "code",
   "outputs": [],
   "execution_count": null,
   "source": [
    "from sklearn.ensemble import GradientBoostingRegressor\n",
    "from scipy.stats import randint as sp_randint, uniform\n",
    "\n",
    "\n",
    "pipeline = Pipeline([\n",
    "    ('imputer', SimpleImputer(strategy='mean')),\n",
    "    ('regressor', GradientBoostingRegressor(random_state=42))\n",
    "])\n",
    "\n",
    "param_dist = {\n",
    "    'regressor__n_estimators': sp_randint(50, 200),\n",
    "    'regressor__learning_rate': uniform(0.01, 0.3),\n",
    "    'regressor__max_depth': sp_randint(3, 10),\n",
    "    'regressor__min_samples_split': sp_randint(2, 20),\n",
    "    'regressor__min_samples_leaf': sp_randint(1, 20),\n",
    "    'regressor__max_features': ['sqrt', 'log2', None],\n",
    "}\n",
    "\n",
    "random_search = RandomizedSearchCV(\n",
    "    estimator=pipeline,\n",
    "    param_distributions=param_dist,\n",
    "    n_iter=100,\n",
    "    cv=5,\n",
    "    verbose=2,\n",
    "    random_state=42,\n",
    "    n_jobs=-1,\n",
    "    scoring='neg_mean_squared_error'\n",
    ")\n",
    "\n",
    "random_search.fit(X_train, y_train)\n",
    "\n",
    "best_model = random_search.best_estimator_\n",
    "best_params = random_search.best_params_\n",
    "\n",
    "y_pred = best_model.predict(X_val)\n",
    "mse = mean_squared_error(y_val, y_pred)\n",
    "r2 = r2_score(y_val, y_pred)\n",
    "mae = mean_absolute_error(y_val, y_pred)\n",
    "medae = median_absolute_error(y_val, y_pred)\n",
    "\n",
    "print(f\"Best Hyperparameters: {best_params}\")\n",
    "print(f\"Mean Squared Error: {mse}\")\n",
    "print(f\"R-squared: {r2}\")\n",
    "print(f\"Mean Absolute Error: {mae}\")\n",
    "print(f\"Median Absolute Error: {medae}\")"
   ],
   "id": "3e759daa18dd841a"
  },
  {
   "metadata": {},
   "cell_type": "code",
   "outputs": [],
   "execution_count": null,
   "source": [
    "pd.DataFrame(random_search.cv_results_).to_excel(\n",
    "    '../parameter_search_results/random_search_gradientboostingregressor.xlsx', index=False)"
   ],
   "id": "2acdfbf749165269"
  },
  {
   "metadata": {},
   "cell_type": "code",
   "outputs": [],
   "execution_count": null,
   "source": [
    "gradientboostigreg = GradientBoostingRegressor(\n",
    "    learning_rate=np.float64(0.01208563915935721),\n",
    "    max_depth=5,\n",
    "    max_features='sqrt',\n",
    "    min_samples_leaf=5,\n",
    "    min_samples_split=2,\n",
    "    n_estimators=100)"
   ],
   "id": "f1e954276b02dd68"
  },
  {
   "metadata": {},
   "cell_type": "code",
   "outputs": [],
   "execution_count": null,
   "source": [
    "pipeline = Pipeline([\n",
    "    ('imputer', SimpleImputer(strategy='mean')),\n",
    "    ('regressor', gradientboostigreg)\n",
    "])\n",
    "\n",
    "pipeline.fit(X_train, y_train)\n",
    "\n",
    "y_pred_GBR = pipeline.predict(X_val)\n",
    "\n",
    "tolerance = 0.5\n",
    "\n",
    "# custom accuracy\n",
    "correct_predictions = np.abs(y_val - y_pred_GBR) <= tolerance\n",
    "accuracy = correct_predictions.mean()\n",
    "print(accuracy)"
   ],
   "id": "f675b2ede370e72a"
  },
  {
   "metadata": {},
   "cell_type": "markdown",
   "source": "Regresja Liniowa",
   "id": "bf66a582a1713245"
  },
  {
   "metadata": {},
   "cell_type": "code",
   "outputs": [],
   "execution_count": null,
   "source": [
    "pipeline = Pipeline([\n",
    "    ('imputer', SimpleImputer(strategy='mean')),\n",
    "    ('regressor', LinearRegression())\n",
    "])\n",
    "\n",
    "param_dist = {\n",
    "    'regressor__fit_intercept': [True, False],\n",
    "    'regressor__positive': [True, False],\n",
    "}\n",
    "\n",
    "\n",
    "random_search = RandomizedSearchCV(\n",
    "    estimator=pipeline,\n",
    "    param_distributions=param_dist,\n",
    "    n_iter=4,\n",
    "    cv=5,\n",
    "    verbose=2,\n",
    "    random_state=42,\n",
    "    n_jobs=-1,\n",
    "    scoring='neg_mean_squared_error'\n",
    ")\n",
    "\n",
    "\n",
    "random_search.fit(X_train, y_train)\n",
    "\n",
    "best_model = random_search.best_estimator_\n",
    "best_params = random_search.best_params_\n",
    "\n",
    "y_pred = best_model.predict(X_val)\n",
    "mse = mean_squared_error(y_val, y_pred)\n",
    "r2 = r2_score(y_val, y_pred)\n",
    "mae = mean_absolute_error(y_val, y_pred)\n",
    "medae = median_absolute_error(y_val, y_pred)\n",
    "\n",
    "print(f\"Best Hyperparameters: {best_params}\")\n",
    "print(f\"Mean Squared Error: {mse}\")\n",
    "print(f\"R-squared: {r2}\")\n",
    "print(f\"Mean Absolute Error: {mae}\")\n",
    "print(f\"Median Absolute Error: {medae}\")"
   ],
   "id": "ce6d013f53dd470c"
  },
  {
   "metadata": {},
   "cell_type": "code",
   "outputs": [],
   "execution_count": null,
   "source": [
    "pd.DataFrame(random_search.cv_results_).to_excel('../parameter_search_results/random_search_lineralregression.xlsx',\n",
    "                                                 index=False)"
   ],
   "id": "88279e78142fc0a3"
  },
  {
   "metadata": {},
   "cell_type": "code",
   "outputs": [],
   "execution_count": null,
   "source": [
    "lin_reg = LinearRegression(fit_intercept=False,\n",
    "                           positive=True)"
   ],
   "id": "386412af555a2632"
  },
  {
   "metadata": {},
   "cell_type": "code",
   "outputs": [],
   "execution_count": null,
   "source": [
    "pipeline = Pipeline([\n",
    "    ('imputer', SimpleImputer(strategy='mean')),\n",
    "    ('regressor', lin_reg)\n",
    "])\n",
    "\n",
    "pipeline.fit(X_train, y_train)\n",
    "\n",
    "y_pred_LINREG = pipeline.predict(X_val)\n",
    "\n",
    "tolerance = 0.5\n",
    "\n",
    "# custom accuracy\n",
    "correct_predictions = np.abs(y_val - y_pred_LINREG) <= tolerance\n",
    "accuracy = correct_predictions.mean()\n",
    "print(accuracy)"
   ],
   "id": "bac524d5f6018d75"
  },
  {
   "metadata": {},
   "cell_type": "markdown",
   "source": "Regresja logistyczna",
   "id": "f95dc08c03abfe49"
  },
  {
   "metadata": {},
   "cell_type": "code",
   "outputs": [],
   "execution_count": null,
   "source": [
    "y_numeric_train = pd.factorize(y_train)[0]\n",
    "y_numeric_val = pd.factorize(y_val)[0]\n",
    "\n",
    "\n",
    "pipeline = Pipeline([\n",
    "    ('imputer', SimpleImputer(strategy='mean')),  # Impute missing values with the mean\n",
    "    ('scaler', StandardScaler()),\n",
    "    ('log_reg', LogisticRegression(max_iter=10000))\n",
    "])\n",
    "\n",
    "# Randomized Search\n",
    "param_dist = {\n",
    "    'log_reg__C': uniform(0.1, 10),\n",
    "    'log_reg__solver': ['newton-cg', 'lbfgs', 'liblinear', 'sag', 'saga'],\n",
    "    'log_reg__penalty': ['l2']  # Only use 'l2' penalty\n",
    "}\n",
    "\n",
    "random_search = RandomizedSearchCV(\n",
    "    estimator=pipeline,  # Use the pipeline as the estimator\n",
    "    param_distributions=param_dist,\n",
    "    n_iter=100,\n",
    "    cv=5,\n",
    "    verbose=2,\n",
    "    random_state=42,\n",
    "    n_jobs=-1,\n",
    "    scoring='accuracy'\n",
    ")\n",
    "\n",
    "random_search.fit(X_train, y_numeric_train)\n",
    "\n",
    "print(\"Best parameters from Randomized Search:\", random_search.best_params_)\n",
    "print(\"Best score from Randomized Search:\", random_search.best_score_)\n",
    "\n",
    "# Grid Search around best parameters from Randomized Search\n",
    "best_params_random = random_search.best_params_\n",
    "param_grid = {\n",
    "    'log_reg__C': [best_params_random['log_reg__C'] - 0.5,\n",
    "                    best_params_random['log_reg__C'],\n",
    "                    best_params_random['log_reg__C'] + 0.5],\n",
    "    'log_reg__solver': [best_params_random['log_reg__solver']],\n",
    "    'log_reg__penalty': ['l2']\n",
    "}\n",
    "\n",
    "grid_search = GridSearchCV(\n",
    "    estimator=pipeline,\n",
    "    param_grid=param_grid,\n",
    "    cv=5,\n",
    "    verbose=2,\n",
    "    n_jobs=-1,\n",
    "    scoring='accuracy'\n",
    ")\n",
    "\n",
    "grid_search.fit(X_train, y_numeric_train)\n",
    "\n",
    "print(\"Best parameters from Grid Search:\", grid_search.best_params_)\n",
    "print(\"Best score from Grid Search:\", grid_search.best_score_)\n",
    "\n",
    "best_model = grid_search.best_estimator_\n",
    "y_pred = best_model.predict(X_val)\n",
    "accuracy = accuracy_score(y_numeric_val, y_pred)\n",
    "print(\"Accuracy on validation set:\", accuracy)"
   ],
   "id": "22ec72d375e28000"
  },
  {
   "metadata": {},
   "cell_type": "code",
   "outputs": [],
   "execution_count": null,
   "source": "log_reg = LogisticRegression(max_iter=10000, C=1.0541011649041132, penalty='l2', solver='saga')",
   "id": "6f9c47a60c9d009"
  },
  {
   "metadata": {},
   "cell_type": "code",
   "outputs": [],
   "execution_count": null,
   "source": [
    "pipeline = Pipeline([\n",
    "    ('imputer', SimpleImputer(strategy='mean')),\n",
    "    ('scaler', StandardScaler()),\n",
    "    ('log_reg', log_reg)\n",
    "])\n",
    "\n",
    "pipeline.fit(X_train, y_train)\n",
    "\n",
    "y_pred_LINREG = pipeline.predict(X_val)\n",
    "\n",
    "tolerance = 0.5\n",
    "\n",
    "# custom accuracy\n",
    "correct_predictions = np.abs(y_val - y_pred_LINREG) <= tolerance\n",
    "accuracy = correct_predictions.mean()\n",
    "print(accuracy)"
   ],
   "id": "da94ae40cb6aab7d"
  },
  {
   "metadata": {},
   "cell_type": "code",
   "outputs": [],
   "execution_count": null,
   "source": [
    "mse = mean_squared_error(y_val, y_pred)\n",
    "r2 = r2_score(y_val, y_pred)\n",
    "mae = mean_absolute_error(y_val, y_pred)\n",
    "medae = median_absolute_error(y_val, y_pred)\n",
    "\n",
    "print(f\"Mean Squared Error: {mse}\")\n",
    "print(f\"R-squared: {r2}\")\n",
    "print(f\"Mean Absolute Error: {mae}\")\n",
    "print(f\"Median Absolute Error: {medae}\")"
   ],
   "id": "14351060524d4289"
  }
 ],
 "metadata": {
  "kernelspec": {
   "display_name": "Python 3",
   "language": "python",
   "name": "python3"
  },
  "language_info": {
   "codemirror_mode": {
    "name": "ipython",
    "version": 2
   },
   "file_extension": ".py",
   "mimetype": "text/x-python",
   "name": "python",
   "nbconvert_exporter": "python",
   "pygments_lexer": "ipython2",
   "version": "2.7.6"
  }
 },
 "nbformat": 4,
 "nbformat_minor": 5
}
