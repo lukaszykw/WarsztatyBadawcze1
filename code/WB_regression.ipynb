{
 "cells": [
  {
   "metadata": {},
   "cell_type": "markdown",
   "source": "## Regresja",
   "id": "55874f548baec7a4"
  },
  {
   "metadata": {},
   "cell_type": "markdown",
   "source": "losowy model",
   "id": "701166cab15f2298"
  },
  {
   "metadata": {
    "ExecuteTime": {
     "end_time": "2025-06-04T22:00:33.722873Z",
     "start_time": "2025-06-04T22:00:33.590385Z"
    }
   },
   "cell_type": "code",
   "source": [
    "import numpy as np\n",
    "import pandas as pd\n",
    "from sklearn.model_selection import train_test_split, GridSearchCV, RandomizedSearchCV\n",
    "from sklearn.ensemble import RandomForestRegressor\n",
    "from sklearn.metrics import mean_squared_error, r2_score, mean_absolute_error, median_absolute_error, accuracy_score\n",
    "from sklearn.impute import SimpleImputer\n",
    "from sklearn.pipeline import Pipeline\n",
    "from scipy.stats import randint as sp_randint, uniform\n",
    "from sklearn.linear_model import LinearRegression, LogisticRegression\n",
    "from sklearn.preprocessing import StandardScaler"
   ],
   "id": "daeb0d139015ee32",
   "outputs": [],
   "execution_count": 1
  },
  {
   "metadata": {
    "ExecuteTime": {
     "end_time": "2025-06-04T22:00:35.449501Z",
     "start_time": "2025-06-04T22:00:35.421798Z"
    }
   },
   "cell_type": "code",
   "source": [
    "df_train = pd.read_csv('../data_with_features/train_with_features.csv')\n",
    "df_test = pd.read_csv('../data_with_features/test_with_features.csv')"
   ],
   "id": "2e108ca913c15bb5",
   "outputs": [],
   "execution_count": 2
  },
  {
   "metadata": {
    "ExecuteTime": {
     "end_time": "2025-06-04T22:00:40.140566Z",
     "start_time": "2025-06-04T22:00:38.838882Z"
    }
   },
   "cell_type": "code",
   "source": [
    "X = df_train.drop(['cellid', 'phase', 'order_within_phase', 'order'], axis=1).loc[df_train['phase'] == 'G2M']\n",
    "y = df_train['order_within_phase'].loc[df_train['phase'] == 'G2M']\n",
    "\n",
    "X_train, X_val, y_train, y_val = train_test_split(X, y, test_size=0.2, random_state=42)\n",
    "\n",
    "pipeline = Pipeline([\n",
    "    ('imputer', SimpleImputer(strategy='mean')),\n",
    "    ('regressor', RandomForestRegressor(random_state=42))\n",
    "])\n",
    "\n",
    "pipeline.fit(X_train, y_train)\n",
    "\n",
    "y_pred = pipeline.predict(X_val)\n",
    "\n",
    "mse = mean_squared_error(y_val, y_pred)\n",
    "r2 = r2_score(y_val, y_pred)\n",
    "\n",
    "print(f\"Mean Squared Error: {mse}\")\n",
    "print(f\"R-squared: {r2}\")"
   ],
   "id": "a286042209230582",
   "outputs": [
    {
     "name": "stdout",
     "output_type": "stream",
     "text": [
      "Mean Squared Error: 10.076098765432098\n",
      "R-squared: 0.06556674393622441\n"
     ]
    }
   ],
   "execution_count": 3
  },
  {
   "metadata": {},
   "cell_type": "markdown",
   "source": "### Dobór hiperparametrów",
   "id": "3400faff198c1ed1"
  },
  {
   "metadata": {
    "ExecuteTime": {
     "end_time": "2025-06-04T22:01:44.340605Z",
     "start_time": "2025-06-04T22:01:27.176386Z"
    }
   },
   "cell_type": "code",
   "source": [
    "pipeline = Pipeline([\n",
    "    ('imputer', SimpleImputer(strategy='mean')),\n",
    "    ('regressor', RandomForestRegressor(random_state=42))\n",
    "])\n",
    "\n",
    "\n",
    "param_dist = {\n",
    "    'regressor__n_estimators': sp_randint(50, 200),\n",
    "    'regressor__max_depth': [None] + list(sp_randint(3, 20).rvs(10)),\n",
    "    'regressor__min_samples_split': sp_randint(2, 20),\n",
    "    'regressor__min_samples_leaf': sp_randint(1, 20),\n",
    "    'regressor__max_features': ['sqrt', 'log2', None],\n",
    "    'regressor__bootstrap': [True, False],\n",
    "}\n",
    "\n",
    "\n",
    "random_search = RandomizedSearchCV(\n",
    "    estimator=pipeline,\n",
    "    param_distributions=param_dist,\n",
    "    n_iter=100,\n",
    "    cv=5,\n",
    "    verbose=2,\n",
    "    random_state=42,\n",
    "    n_jobs=-1,\n",
    "    scoring='neg_mean_squared_error'\n",
    ")\n",
    "\n",
    "\n",
    "random_search.fit(X_train, y_train)\n",
    "\n",
    "best_model = random_search.best_estimator_\n",
    "best_params = random_search.best_params_\n",
    "mae = mean_absolute_error(y_val, y_pred)\n",
    "medae = median_absolute_error(y_val, y_pred)\n",
    "\n",
    "y_pred = best_model.predict(X_val)\n",
    "mse = mean_squared_error(y_val, y_pred)\n",
    "r2 = r2_score(y_val, y_pred)\n",
    "\n",
    "print(f\"Best Hyperparameters: {best_params}\")\n",
    "print(f\"Mean Squared Error: {mse}\")\n",
    "print(f\"R-squared: {r2}\")\n",
    "print(f\"Mean Absolute Error: {mae}\")\n",
    "print(f\"Median Absolute Error: {medae}\")"
   ],
   "id": "9b2410f8a8326f11",
   "outputs": [
    {
     "name": "stdout",
     "output_type": "stream",
     "text": [
      "Fitting 5 folds for each of 100 candidates, totalling 500 fits\n",
      "Best Hyperparameters: {'regressor__bootstrap': True, 'regressor__max_depth': np.int64(14), 'regressor__max_features': 'sqrt', 'regressor__min_samples_leaf': 11, 'regressor__min_samples_split': 5, 'regressor__n_estimators': 70}\n",
      "Mean Squared Error: 9.688839475799309\n",
      "R-squared: 0.10148024254085963\n",
      "Mean Absolute Error: 2.7274074074074077\n",
      "Median Absolute Error: 2.745\n"
     ]
    }
   ],
   "execution_count": 4
  },
  {
   "metadata": {
    "ExecuteTime": {
     "end_time": "2025-06-04T22:01:55.215886Z",
     "start_time": "2025-06-04T22:01:55.085247Z"
    }
   },
   "cell_type": "code",
   "source": "pd.DataFrame(random_search.cv_results_).to_excel('../parameter_search_results/randomforestregressor.xlsx', index=False)",
   "id": "4113367b6e38c490",
   "outputs": [],
   "execution_count": 5
  },
  {
   "metadata": {
    "ExecuteTime": {
     "end_time": "2025-06-04T22:01:58.594130Z",
     "start_time": "2025-06-04T22:01:58.591346Z"
    }
   },
   "cell_type": "code",
   "source": [
    "rand_for_reg = RandomForestRegressor(bootstrap = True,\n",
    "                                max_depth = np.int64(7),\n",
    "                                max_features = 'log2',\n",
    "                                min_samples_leaf = 5,\n",
    "                                min_samples_split = 10,\n",
    "                                n_estimators = 148)"
   ],
   "id": "fd655b3ad6742c7f",
   "outputs": [],
   "execution_count": 6
  },
  {
   "metadata": {
    "ExecuteTime": {
     "end_time": "2025-06-04T22:01:59.826016Z",
     "start_time": "2025-06-04T22:01:59.626787Z"
    }
   },
   "cell_type": "code",
   "source": [
    "rand_for_reg.fit(X_train, y_train)\n",
    "\n",
    "y_pred_RFR = rand_for_reg.predict(X_val)\n",
    "\n",
    "tolerance = 0.5  # Predictions within +/- 1 of the actual value are considered \"correct\"\n",
    "\n",
    "# custom accuracy\n",
    "correct_predictions = np.abs(y_val - y_pred_RFR) <= tolerance\n",
    "accuracy = correct_predictions.mean()\n",
    "print(accuracy)"
   ],
   "id": "6e761366447f450e",
   "outputs": [
    {
     "name": "stdout",
     "output_type": "stream",
     "text": [
      "0.08024691358024691\n"
     ]
    }
   ],
   "execution_count": 7
  },
  {
   "metadata": {},
   "cell_type": "markdown",
   "source": "GradientBoostingRegressor",
   "id": "d2f2f27898380448"
  },
  {
   "metadata": {
    "ExecuteTime": {
     "end_time": "2025-06-04T22:02:35.748481Z",
     "start_time": "2025-06-04T22:02:18.680231Z"
    }
   },
   "cell_type": "code",
   "source": [
    "from sklearn.ensemble import GradientBoostingRegressor\n",
    "from scipy.stats import randint as sp_randint, uniform\n",
    "\n",
    "\n",
    "pipeline = Pipeline([\n",
    "    ('imputer', SimpleImputer(strategy='mean')),\n",
    "    ('regressor', GradientBoostingRegressor(random_state=42))\n",
    "])\n",
    "\n",
    "param_dist = {\n",
    "    'regressor__n_estimators': sp_randint(50, 200),\n",
    "    'regressor__learning_rate': uniform(0.01, 0.3),\n",
    "    'regressor__max_depth': sp_randint(3, 10),\n",
    "    'regressor__min_samples_split': sp_randint(2, 20),\n",
    "    'regressor__min_samples_leaf': sp_randint(1, 20),\n",
    "    'regressor__max_features': ['sqrt', 'log2', None],\n",
    "}\n",
    "\n",
    "random_search = RandomizedSearchCV(\n",
    "    estimator=pipeline,\n",
    "    param_distributions=param_dist,\n",
    "    n_iter=100,\n",
    "    cv=5,\n",
    "    verbose=2,\n",
    "    random_state=42,\n",
    "    n_jobs=-1,\n",
    "    scoring='neg_mean_squared_error'\n",
    ")\n",
    "\n",
    "random_search.fit(X_train, y_train)\n",
    "\n",
    "best_model = random_search.best_estimator_\n",
    "best_params = random_search.best_params_\n",
    "\n",
    "y_pred = best_model.predict(X_val)\n",
    "mse = mean_squared_error(y_val, y_pred)\n",
    "r2 = r2_score(y_val, y_pred)\n",
    "mae = mean_absolute_error(y_val, y_pred)\n",
    "medae = median_absolute_error(y_val, y_pred)\n",
    "\n",
    "print(f\"Best Hyperparameters: {best_params}\")\n",
    "print(f\"Mean Squared Error: {mse}\")\n",
    "print(f\"R-squared: {r2}\")\n",
    "print(f\"Mean Absolute Error: {mae}\")\n",
    "print(f\"Median Absolute Error: {medae}\")"
   ],
   "id": "3e759daa18dd841a",
   "outputs": [
    {
     "name": "stdout",
     "output_type": "stream",
     "text": [
      "Fitting 5 folds for each of 100 candidates, totalling 500 fits\n",
      "Best Hyperparameters: {'regressor__learning_rate': np.float64(0.01208563915935721), 'regressor__max_depth': 5, 'regressor__max_features': 'sqrt', 'regressor__min_samples_leaf': 5, 'regressor__min_samples_split': 2, 'regressor__n_estimators': 100}\n",
      "Mean Squared Error: 9.814429857903866\n",
      "R-squared: 0.08983329143287067\n",
      "Mean Absolute Error: 2.6993005019352068\n",
      "Median Absolute Error: 2.7750427103111353\n"
     ]
    }
   ],
   "execution_count": 8
  },
  {
   "metadata": {
    "ExecuteTime": {
     "end_time": "2025-06-04T22:02:55.213171Z",
     "start_time": "2025-06-04T22:02:55.177632Z"
    }
   },
   "cell_type": "code",
   "source": [
    "pd.DataFrame(random_search.cv_results_).to_excel(\n",
    "    '../parameter_search_results/random_search_gradientboostingregressor.xlsx', index=False)"
   ],
   "id": "2acdfbf749165269",
   "outputs": [],
   "execution_count": 9
  },
  {
   "metadata": {
    "ExecuteTime": {
     "end_time": "2025-06-04T22:03:00.143205Z",
     "start_time": "2025-06-04T22:03:00.140516Z"
    }
   },
   "cell_type": "code",
   "source": [
    "gradientboostigreg = GradientBoostingRegressor(\n",
    "    learning_rate=np.float64(0.01208563915935721),\n",
    "    max_depth=5,\n",
    "    max_features='sqrt',\n",
    "    min_samples_leaf=5,\n",
    "    min_samples_split=2,\n",
    "    n_estimators=100)"
   ],
   "id": "f1e954276b02dd68",
   "outputs": [],
   "execution_count": 10
  },
  {
   "metadata": {
    "ExecuteTime": {
     "end_time": "2025-06-04T22:03:08.106505Z",
     "start_time": "2025-06-04T22:03:07.917453Z"
    }
   },
   "cell_type": "code",
   "source": [
    "pipeline = Pipeline([\n",
    "    ('imputer', SimpleImputer(strategy='mean')),\n",
    "    ('regressor', gradientboostigreg)\n",
    "])\n",
    "\n",
    "pipeline.fit(X_train, y_train)\n",
    "\n",
    "y_pred_GBR = pipeline.predict(X_val)\n",
    "\n",
    "tolerance = 0.5\n",
    "\n",
    "# custom accuracy\n",
    "correct_predictions = np.abs(y_val - y_pred_GBR) <= tolerance\n",
    "accuracy = correct_predictions.mean()\n",
    "print(accuracy)"
   ],
   "id": "f675b2ede370e72a",
   "outputs": [
    {
     "name": "stdout",
     "output_type": "stream",
     "text": [
      "0.09259259259259259\n"
     ]
    }
   ],
   "execution_count": 11
  },
  {
   "metadata": {},
   "cell_type": "markdown",
   "source": "Regresja Liniowa",
   "id": "bf66a582a1713245"
  },
  {
   "metadata": {
    "ExecuteTime": {
     "end_time": "2025-06-04T22:03:15.011230Z",
     "start_time": "2025-06-04T22:03:14.949647Z"
    }
   },
   "cell_type": "code",
   "source": [
    "pipeline = Pipeline([\n",
    "    ('imputer', SimpleImputer(strategy='mean')),\n",
    "    ('regressor', LinearRegression())\n",
    "])\n",
    "\n",
    "param_dist = {\n",
    "    'regressor__fit_intercept': [True, False],\n",
    "    'regressor__positive': [True, False],\n",
    "}\n",
    "\n",
    "\n",
    "random_search = RandomizedSearchCV(\n",
    "    estimator=pipeline,\n",
    "    param_distributions=param_dist,\n",
    "    n_iter=4,\n",
    "    cv=5,\n",
    "    verbose=2,\n",
    "    random_state=42,\n",
    "    n_jobs=-1,\n",
    "    scoring='neg_mean_squared_error'\n",
    ")\n",
    "\n",
    "\n",
    "random_search.fit(X_train, y_train)\n",
    "\n",
    "best_model = random_search.best_estimator_\n",
    "best_params = random_search.best_params_\n",
    "\n",
    "y_pred = best_model.predict(X_val)\n",
    "mse = mean_squared_error(y_val, y_pred)\n",
    "r2 = r2_score(y_val, y_pred)\n",
    "mae = mean_absolute_error(y_val, y_pred)\n",
    "medae = median_absolute_error(y_val, y_pred)\n",
    "\n",
    "print(f\"Best Hyperparameters: {best_params}\")\n",
    "print(f\"Mean Squared Error: {mse}\")\n",
    "print(f\"R-squared: {r2}\")\n",
    "print(f\"Mean Absolute Error: {mae}\")\n",
    "print(f\"Median Absolute Error: {medae}\")"
   ],
   "id": "ce6d013f53dd470c",
   "outputs": [
    {
     "name": "stdout",
     "output_type": "stream",
     "text": [
      "Fitting 5 folds for each of 4 candidates, totalling 20 fits\n",
      "Best Hyperparameters: {'regressor__positive': True, 'regressor__fit_intercept': False}\n",
      "Mean Squared Error: 10.382347385844934\n",
      "R-squared: 0.037165980684561895\n",
      "Mean Absolute Error: 2.7932967955269894\n",
      "Median Absolute Error: 2.835099433538147\n"
     ]
    }
   ],
   "execution_count": 12
  },
  {
   "metadata": {
    "ExecuteTime": {
     "end_time": "2025-06-04T22:03:50.361785Z",
     "start_time": "2025-06-04T22:03:50.339864Z"
    }
   },
   "cell_type": "code",
   "source": [
    "pd.DataFrame(random_search.cv_results_).to_excel('../parameter_search_results/random_search_lineralregression.xlsx',\n",
    "                                                 index=False)"
   ],
   "id": "88279e78142fc0a3",
   "outputs": [],
   "execution_count": 13
  },
  {
   "metadata": {
    "ExecuteTime": {
     "end_time": "2025-06-04T22:03:51.733509Z",
     "start_time": "2025-06-04T22:03:51.731254Z"
    }
   },
   "cell_type": "code",
   "source": [
    "lin_reg = LinearRegression(fit_intercept=False,\n",
    "                           positive=True)"
   ],
   "id": "386412af555a2632",
   "outputs": [],
   "execution_count": 14
  },
  {
   "metadata": {
    "ExecuteTime": {
     "end_time": "2025-06-04T22:03:54.752296Z",
     "start_time": "2025-06-04T22:03:54.738816Z"
    }
   },
   "cell_type": "code",
   "source": [
    "pipeline = Pipeline([\n",
    "    ('imputer', SimpleImputer(strategy='mean')),\n",
    "    ('regressor', lin_reg)\n",
    "])\n",
    "\n",
    "pipeline.fit(X_train, y_train)\n",
    "\n",
    "y_pred_LINREG = pipeline.predict(X_val)\n",
    "\n",
    "tolerance = 0.5\n",
    "\n",
    "# custom accuracy\n",
    "correct_predictions = np.abs(y_val - y_pred_LINREG) <= tolerance\n",
    "accuracy = correct_predictions.mean()\n",
    "print(accuracy)"
   ],
   "id": "bac524d5f6018d75",
   "outputs": [
    {
     "name": "stdout",
     "output_type": "stream",
     "text": [
      "0.10493827160493827\n"
     ]
    }
   ],
   "execution_count": 15
  },
  {
   "metadata": {},
   "cell_type": "markdown",
   "source": "Regresja logistyczna",
   "id": "f95dc08c03abfe49"
  },
  {
   "metadata": {
    "ExecuteTime": {
     "end_time": "2025-06-04T22:04:24.860602Z",
     "start_time": "2025-06-04T22:04:02.601794Z"
    }
   },
   "cell_type": "code",
   "source": [
    "y_numeric_train = pd.factorize(y_train)[0]\n",
    "y_numeric_val = pd.factorize(y_val)[0]\n",
    "\n",
    "\n",
    "pipeline = Pipeline([\n",
    "    ('imputer', SimpleImputer(strategy='mean')),  # Impute missing values with the mean\n",
    "    ('scaler', StandardScaler()),\n",
    "    ('log_reg', LogisticRegression(max_iter=10000))\n",
    "])\n",
    "\n",
    "# Randomized Search\n",
    "param_dist = {\n",
    "    'log_reg__C': uniform(0.1, 10),\n",
    "    'log_reg__solver': ['newton-cg', 'lbfgs', 'liblinear', 'sag', 'saga'],\n",
    "    'log_reg__penalty': ['l2']  # Only use 'l2' penalty\n",
    "}\n",
    "\n",
    "random_search = RandomizedSearchCV(\n",
    "    estimator=pipeline,  # Use the pipeline as the estimator\n",
    "    param_distributions=param_dist,\n",
    "    n_iter=100,\n",
    "    cv=5,\n",
    "    verbose=2,\n",
    "    random_state=42,\n",
    "    n_jobs=-1,\n",
    "    scoring='accuracy'\n",
    ")\n",
    "\n",
    "random_search.fit(X_train, y_numeric_train)\n",
    "\n",
    "print(\"Best parameters from Randomized Search:\", random_search.best_params_)\n",
    "print(\"Best score from Randomized Search:\", random_search.best_score_)\n",
    "\n",
    "# Grid Search around best parameters from Randomized Search\n",
    "best_params_random = random_search.best_params_\n",
    "param_grid = {\n",
    "    'log_reg__C': [best_params_random['log_reg__C'] - 0.5,\n",
    "                    best_params_random['log_reg__C'],\n",
    "                    best_params_random['log_reg__C'] + 0.5],\n",
    "    'log_reg__solver': [best_params_random['log_reg__solver']],\n",
    "    'log_reg__penalty': ['l2']\n",
    "}\n",
    "\n",
    "grid_search = GridSearchCV(\n",
    "    estimator=pipeline,\n",
    "    param_grid=param_grid,\n",
    "    cv=5,\n",
    "    verbose=2,\n",
    "    n_jobs=-1,\n",
    "    scoring='accuracy'\n",
    ")\n",
    "\n",
    "grid_search.fit(X_train, y_numeric_train)\n",
    "\n",
    "print(\"Best parameters from Grid Search:\", grid_search.best_params_)\n",
    "print(\"Best score from Grid Search:\", grid_search.best_score_)\n",
    "\n",
    "best_model = grid_search.best_estimator_\n",
    "y_pred = best_model.predict(X_val)\n",
    "accuracy = accuracy_score(y_numeric_val, y_pred)\n",
    "print(\"Accuracy on validation set:\", accuracy)"
   ],
   "id": "22ec72d375e28000",
   "outputs": [
    {
     "name": "stdout",
     "output_type": "stream",
     "text": [
      "Fitting 5 folds for each of 100 candidates, totalling 500 fits\n",
      "Best parameters from Randomized Search: {'log_reg__C': np.float64(1.0541011649041132), 'log_reg__penalty': 'l2', 'log_reg__solver': 'saga'}\n",
      "Best score from Randomized Search: 0.11879546809779366\n",
      "Fitting 5 folds for each of 3 candidates, totalling 15 fits\n",
      "Best parameters from Grid Search: {'log_reg__C': np.float64(1.0541011649041132), 'log_reg__penalty': 'l2', 'log_reg__solver': 'saga'}\n",
      "Best score from Grid Search: 0.11879546809779366\n",
      "Accuracy on validation set: 0.10493827160493827\n"
     ]
    }
   ],
   "execution_count": 16
  },
  {
   "metadata": {
    "ExecuteTime": {
     "end_time": "2025-06-04T22:05:16.007345Z",
     "start_time": "2025-06-04T22:05:15.968574Z"
    }
   },
   "cell_type": "code",
   "source": [
    "pd.DataFrame(random_search.cv_results_).to_excel('../parameter_search_results/random_search_logisticregression.xlsx',\n",
    "                                                 index=False)"
   ],
   "id": "4866a50026b07f2",
   "outputs": [],
   "execution_count": 17
  },
  {
   "metadata": {
    "ExecuteTime": {
     "end_time": "2025-06-04T22:05:17.021680Z",
     "start_time": "2025-06-04T22:05:17.019232Z"
    }
   },
   "cell_type": "code",
   "source": "log_reg = LogisticRegression(max_iter=10000, C=1.0541011649041132, penalty='l2', solver='saga')",
   "id": "6f9c47a60c9d009",
   "outputs": [],
   "execution_count": 18
  },
  {
   "metadata": {
    "ExecuteTime": {
     "end_time": "2025-06-04T22:05:19.483227Z",
     "start_time": "2025-06-04T22:05:18.771840Z"
    }
   },
   "cell_type": "code",
   "source": [
    "pipeline = Pipeline([\n",
    "    ('imputer', SimpleImputer(strategy='mean')),\n",
    "    ('scaler', StandardScaler()),\n",
    "    ('log_reg', log_reg)\n",
    "])\n",
    "\n",
    "pipeline.fit(X_train, y_train)\n",
    "\n",
    "y_pred_LINREG = pipeline.predict(X_val)\n",
    "\n",
    "tolerance = 0.5\n",
    "\n",
    "# custom accuracy\n",
    "correct_predictions = np.abs(y_val - y_pred_LINREG) <= tolerance\n",
    "accuracy = correct_predictions.mean()\n",
    "print(accuracy)"
   ],
   "id": "da94ae40cb6aab7d",
   "outputs": [
    {
     "name": "stdout",
     "output_type": "stream",
     "text": [
      "0.12962962962962962\n"
     ]
    }
   ],
   "execution_count": 19
  },
  {
   "metadata": {
    "ExecuteTime": {
     "end_time": "2025-06-04T22:05:22.825202Z",
     "start_time": "2025-06-04T22:05:22.819736Z"
    }
   },
   "cell_type": "code",
   "source": [
    "mse = mean_squared_error(y_val, y_pred)\n",
    "r2 = r2_score(y_val, y_pred)\n",
    "mae = mean_absolute_error(y_val, y_pred)\n",
    "medae = median_absolute_error(y_val, y_pred)\n",
    "\n",
    "print(f\"Mean Squared Error: {mse}\")\n",
    "print(f\"R-squared: {r2}\")\n",
    "print(f\"Mean Absolute Error: {mae}\")\n",
    "print(f\"Median Absolute Error: {medae}\")"
   ],
   "id": "14351060524d4289",
   "outputs": [
    {
     "name": "stdout",
     "output_type": "stream",
     "text": [
      "Mean Squared Error: 23.253086419753085\n",
      "R-squared: -1.156435517611805\n",
      "Mean Absolute Error: 3.9074074074074074\n",
      "Median Absolute Error: 3.0\n"
     ]
    }
   ],
   "execution_count": 20
  }
 ],
 "metadata": {
  "kernelspec": {
   "display_name": "Python 3",
   "language": "python",
   "name": "python3"
  },
  "language_info": {
   "codemirror_mode": {
    "name": "ipython",
    "version": 2
   },
   "file_extension": ".py",
   "mimetype": "text/x-python",
   "name": "python",
   "nbconvert_exporter": "python",
   "pygments_lexer": "ipython2",
   "version": "2.7.6"
  }
 },
 "nbformat": 4,
 "nbformat_minor": 5
}
